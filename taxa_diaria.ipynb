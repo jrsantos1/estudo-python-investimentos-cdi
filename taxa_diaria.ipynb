{
 "cells": [
  {
   "cell_type": "code",
   "execution_count": 8,
   "metadata": {},
   "outputs": [
    {
     "name": "stdout",
     "output_type": "stream",
     "text": [
      "2022-11-06 15:23:34.983983\n"
     ]
    }
   ],
   "source": [
    "import datetime \n",
    "\n",
    "data = datetime.timedelta(30)\n",
    "\n",
    "data_hoje = datetime.datetime.now()\n",
    "\n",
    "print( data_hoje - data)"
   ]
  },
  {
   "cell_type": "code",
   "execution_count": 26,
   "metadata": {},
   "outputs": [
    {
     "data": {
      "text/html": [
       "<div>\n",
       "<style scoped>\n",
       "    .dataframe tbody tr th:only-of-type {\n",
       "        vertical-align: middle;\n",
       "    }\n",
       "\n",
       "    .dataframe tbody tr th {\n",
       "        vertical-align: top;\n",
       "    }\n",
       "\n",
       "    .dataframe thead th {\n",
       "        text-align: right;\n",
       "    }\n",
       "</style>\n",
       "<table border=\"1\" class=\"dataframe\">\n",
       "  <thead>\n",
       "    <tr style=\"text-align: right;\">\n",
       "      <th></th>\n",
       "      <th>data</th>\n",
       "      <th>valor</th>\n",
       "      <th>retorno</th>\n",
       "    </tr>\n",
       "  </thead>\n",
       "  <tbody>\n",
       "    <tr>\n",
       "      <th>9064</th>\n",
       "      <td>2022-08-02</td>\n",
       "      <td>0.049037</td>\n",
       "      <td>0.000000</td>\n",
       "    </tr>\n",
       "    <tr>\n",
       "      <th>9065</th>\n",
       "      <td>2022-08-03</td>\n",
       "      <td>0.049037</td>\n",
       "      <td>0.000000</td>\n",
       "    </tr>\n",
       "    <tr>\n",
       "      <th>9066</th>\n",
       "      <td>2022-08-04</td>\n",
       "      <td>0.050788</td>\n",
       "      <td>0.035708</td>\n",
       "    </tr>\n",
       "    <tr>\n",
       "      <th>9067</th>\n",
       "      <td>2022-08-05</td>\n",
       "      <td>0.050788</td>\n",
       "      <td>0.000000</td>\n",
       "    </tr>\n",
       "    <tr>\n",
       "      <th>9068</th>\n",
       "      <td>2022-08-08</td>\n",
       "      <td>0.050788</td>\n",
       "      <td>0.000000</td>\n",
       "    </tr>\n",
       "    <tr>\n",
       "      <th>...</th>\n",
       "      <td>...</td>\n",
       "      <td>...</td>\n",
       "      <td>...</td>\n",
       "    </tr>\n",
       "    <tr>\n",
       "      <th>9145</th>\n",
       "      <td>2022-11-29</td>\n",
       "      <td>0.050788</td>\n",
       "      <td>0.000000</td>\n",
       "    </tr>\n",
       "    <tr>\n",
       "      <th>9146</th>\n",
       "      <td>2022-11-30</td>\n",
       "      <td>0.050788</td>\n",
       "      <td>0.000000</td>\n",
       "    </tr>\n",
       "    <tr>\n",
       "      <th>9147</th>\n",
       "      <td>2022-12-01</td>\n",
       "      <td>0.050788</td>\n",
       "      <td>0.000000</td>\n",
       "    </tr>\n",
       "    <tr>\n",
       "      <th>9148</th>\n",
       "      <td>2022-12-02</td>\n",
       "      <td>0.050788</td>\n",
       "      <td>0.000000</td>\n",
       "    </tr>\n",
       "    <tr>\n",
       "      <th>9149</th>\n",
       "      <td>2022-12-05</td>\n",
       "      <td>0.050788</td>\n",
       "      <td>0.000000</td>\n",
       "    </tr>\n",
       "  </tbody>\n",
       "</table>\n",
       "<p>86 rows × 3 columns</p>\n",
       "</div>"
      ],
      "text/plain": [
       "           data     valor   retorno\n",
       "9064 2022-08-02  0.049037  0.000000\n",
       "9065 2022-08-03  0.049037  0.000000\n",
       "9066 2022-08-04  0.050788  0.035708\n",
       "9067 2022-08-05  0.050788  0.000000\n",
       "9068 2022-08-08  0.050788  0.000000\n",
       "...         ...       ...       ...\n",
       "9145 2022-11-29  0.050788  0.000000\n",
       "9146 2022-11-30  0.050788  0.000000\n",
       "9147 2022-12-01  0.050788  0.000000\n",
       "9148 2022-12-02  0.050788  0.000000\n",
       "9149 2022-12-05  0.050788  0.000000\n",
       "\n",
       "[86 rows x 3 columns]"
      ]
     },
     "execution_count": 26,
     "metadata": {},
     "output_type": "execute_result"
    }
   ],
   "source": [
    "import pandas as pd \n",
    "\n",
    "dados = pd.read_json('https://api.bcb.gov.br/dados/serie/bcdata.sgs.11/dados?formato=json')\n",
    "\n",
    "dados['data'] = pd.to_datetime(dados['data'], format='%d/%m/%Y')\n",
    "\n",
    "dados_retorno = dados['valor'].pct_change()\n",
    "\n",
    "data_solicitada = datetime.datetime(2022, 8, 1)\n",
    "\n",
    "dados['retorno'] = dados_retorno\n",
    "\n",
    "dados = dados.loc[dados['data'] > data_solicitada]\n",
    "\n",
    "dados"
   ]
  }
 ],
 "metadata": {
  "kernelspec": {
   "display_name": "Python 3.11.0 64-bit",
   "language": "python",
   "name": "python3"
  },
  "language_info": {
   "codemirror_mode": {
    "name": "ipython",
    "version": 3
   },
   "file_extension": ".py",
   "mimetype": "text/x-python",
   "name": "python",
   "nbconvert_exporter": "python",
   "pygments_lexer": "ipython3",
   "version": "3.11.0"
  },
  "orig_nbformat": 4,
  "vscode": {
   "interpreter": {
    "hash": "c261aea317cc0286b3b3261fbba9abdec21eaa57589985bb7a274bf54d6cc0a7"
   }
  }
 },
 "nbformat": 4,
 "nbformat_minor": 2
}
